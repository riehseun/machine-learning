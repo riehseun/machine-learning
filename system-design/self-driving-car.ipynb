{
 "cells": [
  {
   "cell_type": "markdown",
   "id": "69522d4a-cb4a-4ad5-ba9b-c38a20bd919b",
   "metadata": {},
   "source": [
    "# Self-driving car\n",
    "\n",
    "## Scope\n",
    "- Object detection\n",
    "- Semantic segmentation\n",
    "\n",
    "## Scale\n",
    "\n",
    "## Metric\n",
    "\n",
    "Offline\n",
    "- Intersection over union (IoU) = (area of overlap / area of union)\n",
    "- IoU is computed for each class, then averaged.\n",
    "\n",
    "Online\n",
    "- Driver's manual intervention would be negative example.\n",
    "\n",
    "## Architecture\n",
    "\n",
    "<img src=\"img/self_driving_car1.png\" style=\"width:1000px;height:800px;\">\n",
    "\n",
    "## Training data generation\n",
    "- Human labeled data.\n",
    "- Open source dataset.\n",
    "- cGAN\n",
    "    - For example, we want to generate images at the weather conditions we want. \n",
    "\n",
    "## Model\n",
    "\n",
    "### Fully convolutional network\n",
    "\n",
    "### U-Net\n",
    "- Built upon FCN with modifications.\n",
    "\n",
    "### Mast R-CNN\n",
    "\n",
    "### Transfer learning"
   ]
  },
  {
   "cell_type": "code",
   "execution_count": null,
   "id": "cd332b92-17ea-4f3c-8c10-485b5076d04d",
   "metadata": {},
   "outputs": [],
   "source": []
  }
 ],
 "metadata": {
  "kernelspec": {
   "display_name": "Python 3 (ipykernel)",
   "language": "python",
   "name": "python3"
  },
  "language_info": {
   "codemirror_mode": {
    "name": "ipython",
    "version": 3
   },
   "file_extension": ".py",
   "mimetype": "text/x-python",
   "name": "python",
   "nbconvert_exporter": "python",
   "pygments_lexer": "ipython3",
   "version": "3.9.10"
  }
 },
 "nbformat": 4,
 "nbformat_minor": 5
}
