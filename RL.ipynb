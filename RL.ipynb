{
 "cells": [
  {
   "cell_type": "markdown",
   "metadata": {},
   "source": [
    "https://smartlabai.medium.com/a-brief-overview-of-imitation-learning-8a8a75c44a9c\n",
    "\n",
    "# Imitation learning\n",
    "\n",
    "$S$: set of states<br>\n",
    "$A$: set of actions<br>\n",
    "$P(s^{'}|s,a)$: probability that action $a$ in state $s$ can lead to state $s^{'}$<br>\n",
    "$R(s,a)$: reward function<br>\n",
    "$\\pi$: policy where the actions are based on<br>\n",
    "$\\tau = (s_{0}, a_{0}, s_{1}, a_{1}, \\dots)$: expert demonstartions or tragectories<br>\n",
    "$\\pi^{*}$: optimal policy where actions given by $\\tau$\n",
    "\n",
    "## Behavioral cloning\n",
    "\n",
    "- Collect $\\pi^{*}$ from experts\n",
    "- Assume demonstrations are i.i.d. $(s_{0}^{*}, a_{0}^{*}), (s_{1}^{*}, a_{1}^{*}), \\dots$\n",
    "- Learn $\\pi_{\\theta}$ by minimizing $L(a^{*}, \\pi_{\\theta}(s))$ \n",
    "\n",
    "### Limitations\n",
    "\n",
    "- An action in a given state induces the next one in Markov Decision Process, which breaks i.i.d. assumption\n",
    "- If agent makes a mistake, it can land on a state that expert never visited, causing catastrophic failure.\n",
    "\n",
    "## Options framework"
   ]
  },
  {
   "cell_type": "code",
   "execution_count": null,
   "metadata": {},
   "outputs": [],
   "source": []
  },
  {
   "cell_type": "code",
   "execution_count": null,
   "metadata": {},
   "outputs": [],
   "source": []
  }
 ],
 "metadata": {
  "kernelspec": {
   "display_name": "Python 3",
   "language": "python",
   "name": "python3"
  },
  "language_info": {
   "codemirror_mode": {
    "name": "ipython",
    "version": 3
   },
   "file_extension": ".py",
   "mimetype": "text/x-python",
   "name": "python",
   "nbconvert_exporter": "python",
   "pygments_lexer": "ipython3",
   "version": "3.7.4"
  }
 },
 "nbformat": 4,
 "nbformat_minor": 2
}
