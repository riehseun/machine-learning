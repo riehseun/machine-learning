{
 "cells": [
  {
   "cell_type": "markdown",
   "metadata": {},
   "source": [
    "https://smartlabai.medium.com/a-brief-overview-of-imitation-learning-8a8a75c44a9c\n",
    "https://citeseerx.ist.psu.edu/viewdoc/download?doi=10.1.1.14.2402&rep=rep1&type=pdf\n",
    "\n",
    "# Imitation learning\n",
    "\n",
    "$S$: set of states<br>\n",
    "$A$: set of actions<br>\n",
    "$P(s^{'}|s,a)$: probability that action $a$ in state $s$ can lead to state $s^{'}$<br>\n",
    "$R(s,a)$: reward function<br>\n",
    "$\\pi$: policy where the actions are based on<br>\n",
    "$\\tau = (s_{0},a_{0},s_{1},a_{1},\\dots)$: expert demonstartions or tragectories<br>\n",
    "$\\pi^{*}$: optimal policy where actions given by $\\tau$\n",
    "\n",
    "## Behavioral cloning\n",
    "\n",
    "- Collect $\\pi^{*}$ from experts\n",
    "- Assume demonstrations are i.i.d. $(s_{0}^{*},a_{0}^{*}), (s_{1}^{*},a_{1}^{*}),\\dots$\n",
    "- Learn $\\pi_{\\theta}$ by minimizing $L(a^{*},\\pi_{\\theta}(s))$ \n",
    "\n",
    "### Limitations\n",
    "\n",
    "- An action in a given state induces the next one in Markov Decision Process (MDP), which breaks i.i.d. assumption\n",
    "- If agent makes a mistake, it can land on a state that expert never visited, causing catastrophic failure.\n",
    "\n",
    "## Options framework\n",
    "\n",
    "- Define expected discounted future reward\n",
    "    - $Q^{\\pi}(s,a) = E_{\\pi}\\left[r_{t+1} + \\gamma r_{t+2} + \\dots | s_{t}=s,a_{t}=a\\right]$\n",
    "        - Where $r_{t}$ represents the reward at time step $t$ \n",
    "- Q-learning\n",
    "    - $Q(s_{t},a_{t}) \\leftarrow Q\\left(s_{t},a_{t} + \\alpha(r_{t}+1) + \\gamma \\underset{{a^{'} \\in A}}{max}Q(s_{t+1},a^{'}) - Q(s_{t},a_{t})\\right)$\n",
    "- Options\n",
    "    - Policy $\\pi$\n",
    "    - Termination condition $\\beta$\n",
    "    - Input set $I \\subseteq S$\n",
    "    - An option is available in state $s$ iif $s \\in I$\n",
    "    - If option is taken, then actions are selected according to $\\pi$, until the option terminates according to $\\beta$ "
   ]
  },
  {
   "cell_type": "code",
   "execution_count": null,
   "metadata": {},
   "outputs": [],
   "source": []
  },
  {
   "cell_type": "code",
   "execution_count": null,
   "metadata": {},
   "outputs": [],
   "source": []
  }
 ],
 "metadata": {
  "kernelspec": {
   "display_name": "Python 3",
   "language": "python",
   "name": "python3"
  },
  "language_info": {
   "codemirror_mode": {
    "name": "ipython",
    "version": 3
   },
   "file_extension": ".py",
   "mimetype": "text/x-python",
   "name": "python",
   "nbconvert_exporter": "python",
   "pygments_lexer": "ipython3",
   "version": "3.7.4"
  }
 },
 "nbformat": 4,
 "nbformat_minor": 2
}
