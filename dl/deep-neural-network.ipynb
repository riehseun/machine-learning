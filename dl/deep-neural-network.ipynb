{
 "cells": [
  {
   "cell_type": "markdown",
   "id": "efad8100-c4f5-4b0b-956a-812135b80c4c",
   "metadata": {},
   "source": [
    "# Deep neural network"
   ]
  },
  {
   "cell_type": "markdown",
   "id": "f46756a5-736c-4624-8dbb-2b499acb5576",
   "metadata": {},
   "source": [
    "# Packages\n",
    "\n",
    "- [numpy](www.numpy.org) scientific computing with Python.\n",
    "- [matplotlib](http://matplotlib.org) plot graphs in Python."
   ]
  },
  {
   "cell_type": "code",
   "execution_count": 2,
   "id": "6b501ad7-1c94-44eb-9392-5e7b0f257749",
   "metadata": {},
   "outputs": [],
   "source": [
    "import numpy as np\n",
    "import h5py\n",
    "import matplotlib.pyplot as plt\n",
    "\n",
    "%matplotlib inline\n",
    "plt.rcParams['figure.figsize'] = (5.0, 4.0) # set default size of plots\n",
    "plt.rcParams['image.interpolation'] = 'nearest'\n",
    "plt.rcParams['image.cmap'] = 'gray'\n",
    "\n",
    "%load_ext autoreload\n",
    "%autoreload 2"
   ]
  },
  {
   "cell_type": "code",
   "execution_count": null,
   "id": "12bb3cf3-df4a-4fdd-9980-eaae54f53fd9",
   "metadata": {},
   "outputs": [],
   "source": []
  }
 ],
 "metadata": {
  "kernelspec": {
   "display_name": "Python 3 (ipykernel)",
   "language": "python",
   "name": "python3"
  },
  "language_info": {
   "codemirror_mode": {
    "name": "ipython",
    "version": 3
   },
   "file_extension": ".py",
   "mimetype": "text/x-python",
   "name": "python",
   "nbconvert_exporter": "python",
   "pygments_lexer": "ipython3",
   "version": "3.9.10"
  }
 },
 "nbformat": 4,
 "nbformat_minor": 5
}
