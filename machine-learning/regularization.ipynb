{
 "cells": [
  {
   "cell_type": "markdown",
   "id": "8e9ccad9-b96f-45d3-a0d0-185128abdeaf",
   "metadata": {},
   "source": [
    "# Regularization\n",
    "\n",
    "- Penalizes weights being large.\n",
    "- $J(w,b) = \\dfrac{1}{m}\\displaystyle\\sum_{i=1}^{m}L(\\hat{y}^{(i)}, y^{(i))}) + \\dfrac{\\lambda}{2m}||w||^{2}$\n",
    "- Where $||w||^{2} = \\displaystyle\\sum_{j=1}^{n_{x}}w_{j}^{2} = w^{T}w$\n",
    "\n",
    "In general\n",
    "- $J(w^{[1]},b^{[1]} \\dots w^{[2]},b^{[2]}) = \\dfrac{1}{m}\\displaystyle\\sum_{i=1}^{m}L(\\hat{y}^{(i)}, y^{(i))}) + \\dfrac{\\lambda}{2m}\\displaystyle\\sum_{l=1}^{L}||w^{[l]}||_{F}^{2}$\n",
    "- Where $||w^{[l]}||_{F}^{2} = \\displaystyle\\sum_{i=1}^{n^{[l-1]}}\\displaystyle\\sum_{j=1}^{n^{[l]}}(w_{ij}^{[l]})^{2}$\n",
    "- Add $\\dfrac{\\lambda}{m}w^{[l]}$ to $dw^{[l]}$\n",
    "- $w^{[l]} = w^{[l]} - \\alpha dw^{[l]}$ remains the same.\n",
    "\n",
    "## Dropout\n",
    "\n",
    "Example: $l =3$\n",
    "- keep_prop = 0.8 (20% chance that units will be shutdown)\n",
    "- d3 = np.random.rand(a3.shape[0], a3.shape[1]) $\\gt$ keep_prop\n",
    "- a3 = np.multiply(a3, d3)\n",
    "- a3 = a3 / keep_prop\n",
    "\n",
    "Other regularization\n",
    "- Data augmentation.\n",
    "- Early stopping.\n",
    "\n",
    "## Normalizing inputs\n",
    "\n",
    "- To make gradient descent faster. \n",
    "- Applies to both training and test sets.\n",
    "- $\\mu = \\dfrac{1}{m}\\displaystyle\\sum_{i=1}^{m}x^{(i)}$, $\\sigma^{2} = \\dfrac{1}{m}\\displaystyle\\sum_{i=1}^{m}x^{(i)}**2$\n",
    "- $x = \\dfrac{x-\\mu}{\\sigma}$\n",
    "\n",
    "## Vanishing/exploding gradient\n",
    "\n",
    "- Happens in deep neural network.\n",
    "- To partially overcome, weight initialization.\n",
    "    - $Var(w_{i})$ = $\\dfrac{1}{n}$ or $\\dfrac{2}{n}$ (good for RELU)\n",
    "    - $w^{[l]}$ = np.random.randn() * init_factor\n",
    "    - init_factor = np.sqrt$\\left(\\dfrac{2}{n^{[l-1]}}\\right)$ (good for RELU) or np.sqrt$\\left(\\dfrac{1}{n^{[l-1]}}\\right)$ (Xavier initialization)\n",
    "    \n",
    "## Gradient checking\n",
    "\n",
    "- Take $w^{[1]},b^{[1]} \\dots w^{[l]},b^{[l]}$ and reshape into a big factor $\\theta$\n",
    "    - $J(w^{[1]},b^{[1]} \\dots w^{[l]},b^{[l]}) J(\\theta)$\n",
    "- Take $dw^{[1]},db^{[1]} \\dots dw^{[l]},db^{[l]}$ and reshape into a big factor $d\\theta$\n",
    "- For each $i$\n",
    "    - $d\\theta_{approx}[i] = \\dfrac{J(\\theta_{1}, \\theta_{2} \\dots \\theta_{i+\\epsilon} \\dots) - J(\\theta_{1}, \\theta_{2} \\dots \\theta_{i-\\epsilon} \\dots)}{2\\epsilon} \\approx \\partial \\theta[i] = \\dfrac{\\partial J}{\\partial \\theta_{i}}$\n",
    "- Check\n",
    "    - $\\dfrac{||d\\theta_{approx}-d\\theta||_{2}}{||d\\theta_{approx}||_{2} + ||d\\theta||_{2}} \\approx 10^{-7}$ good \n",
    "    - bigger than $10^{-3}$ means something wrong!\n",
    "- Don't use in training, only to debug.\n",
    "- Include regularization term in $d\\theta$ calculation.\n",
    "- Doesn't work with dropout. (you can grad check with keep_prop=1.0, then later turn on dropout)"
   ]
  },
  {
   "cell_type": "markdown",
   "id": "017a3730-6bbd-4916-8a12-94bcbb9ef4b4",
   "metadata": {},
   "source": [
    "## Example"
   ]
  },
  {
   "cell_type": "markdown",
   "id": "ec859701-fd75-4652-ac88-61ab3fad8094",
   "metadata": {},
   "source": [
    "### Packages"
   ]
  },
  {
   "cell_type": "code",
   "execution_count": 2,
   "id": "6d381b05-056d-4219-aca8-2b210c3e16c0",
   "metadata": {},
   "outputs": [],
   "source": [
    "import numpy as np\n",
    "import matplotlib.pyplot as plt\n",
    "import sklearn\n",
    "import sklearn.datasets\n",
    "import scipy.io\n",
    "\n",
    "from dl_utils import *\n",
    "\n",
    "%matplotlib inline\n",
    "plt.rcParams['figure.figsize'] = (7.0, 4.0) # set default size of plots\n",
    "plt.rcParams['image.interpolation'] = 'nearest'\n",
    "plt.rcParams['image.cmap'] = 'gray'"
   ]
  },
  {
   "cell_type": "markdown",
   "id": "9c3522a9-c7fa-415f-9bb8-a8a10b1d452c",
   "metadata": {},
   "source": [
    "### Data"
   ]
  },
  {
   "cell_type": "code",
   "execution_count": 3,
   "id": "4d7309ce-5bcb-47e9-abb5-265deb1d7688",
   "metadata": {},
   "outputs": [
    {
     "ename": "NameError",
     "evalue": "name 'scipy' is not defined",
     "output_type": "error",
     "traceback": [
      "\u001b[0;31m---------------------------------------------------------------------------\u001b[0m",
      "\u001b[0;31mNameError\u001b[0m                                 Traceback (most recent call last)",
      "Input \u001b[0;32mIn [3]\u001b[0m, in \u001b[0;36m<cell line: 1>\u001b[0;34m()\u001b[0m\n\u001b[0;32m----> 1\u001b[0m train_X, train_Y, test_X, test_Y \u001b[38;5;241m=\u001b[39m \u001b[43mload_2D_dataset\u001b[49m\u001b[43m(\u001b[49m\u001b[43m)\u001b[49m\n",
      "File \u001b[0;32m~/work/machine-learning/machine-learning/dl_utils.py:63\u001b[0m, in \u001b[0;36mload_2D_dataset\u001b[0;34m()\u001b[0m\n\u001b[1;32m     62\u001b[0m \u001b[38;5;28;01mdef\u001b[39;00m \u001b[38;5;21mload_2D_dataset\u001b[39m():\n\u001b[0;32m---> 63\u001b[0m     data \u001b[38;5;241m=\u001b[39m \u001b[43mscipy\u001b[49m\u001b[38;5;241m.\u001b[39mio\u001b[38;5;241m.\u001b[39mloadmat(\u001b[38;5;124m'\u001b[39m\u001b[38;5;124mdatasets/data.mat\u001b[39m\u001b[38;5;124m'\u001b[39m)\n\u001b[1;32m     64\u001b[0m     train_X \u001b[38;5;241m=\u001b[39m data[\u001b[38;5;124m'\u001b[39m\u001b[38;5;124mX\u001b[39m\u001b[38;5;124m'\u001b[39m]\u001b[38;5;241m.\u001b[39mT\n\u001b[1;32m     65\u001b[0m     train_Y \u001b[38;5;241m=\u001b[39m data[\u001b[38;5;124m'\u001b[39m\u001b[38;5;124my\u001b[39m\u001b[38;5;124m'\u001b[39m]\u001b[38;5;241m.\u001b[39mT\n",
      "\u001b[0;31mNameError\u001b[0m: name 'scipy' is not defined"
     ]
    }
   ],
   "source": [
    "train_X, train_Y, test_X, test_Y = load_2D_dataset()"
   ]
  },
  {
   "cell_type": "code",
   "execution_count": null,
   "id": "ea1f1a4b-a9d5-4893-8127-3dc8e275c59a",
   "metadata": {},
   "outputs": [],
   "source": []
  }
 ],
 "metadata": {
  "kernelspec": {
   "display_name": "Python 3 (ipykernel)",
   "language": "python",
   "name": "python3"
  },
  "language_info": {
   "codemirror_mode": {
    "name": "ipython",
    "version": 3
   },
   "file_extension": ".py",
   "mimetype": "text/x-python",
   "name": "python",
   "nbconvert_exporter": "python",
   "pygments_lexer": "ipython3",
   "version": "3.9.10"
  }
 },
 "nbformat": 4,
 "nbformat_minor": 5
}
