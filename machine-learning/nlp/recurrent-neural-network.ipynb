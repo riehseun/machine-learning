{
 "cells": [
  {
   "cell_type": "markdown",
   "id": "9a35db20-83dd-42aa-a601-b6d17134d9b4",
   "metadata": {},
   "source": [
    "# Recurrent neural network\n",
    "\n",
    "## Why not standard network\n",
    "\n",
    "- inputs, outputs can be different lengths in different examples\n",
    "- doesn't share features learned across different positions of text\n",
    "\n",
    "## Recurrent neural network\n",
    "\n",
    "- $a^{<0>} = \\overrightarrow{0}$\n",
    "- $a^{<1>} = g_{1}(W_{aa}a^{<0>} + W_{ax}X^{<1>} + b_{a})$ (tanh/relu)\n",
    "- $\\hat{y}^{<1>} = g_{2}(W_{ya}a^{<1>} + b_{y})$ (sigmoid)\n",
    "- $a^{<t>} = g(W_{aa}a^{<t-1>} + W_{ax}X^{<t>} + b_{a}) = g(W_{a}[a^{<t-1>}, X^{<t>}] + b_{a})$ where $[W_{aa} \\vdots W_{ax}] = W_{a}$ and $[a^{<t-1>}, X^{<t>}]$ = |\n",
    "$\\begin{bmatrix}\n",
    "   a^{<t-1>} \\\\\n",
    "   X^{<t>} \\\\\n",
    " \\end{bmatrix}$\n",
    "- $\\hat{y}^{<t>} = g(W_{ya}a^{<t>} + b_{y}) = g(W_{y}a^{<t>} + b_{y})$ \n",
    "\n",
    "## Backpropagation through time\n",
    "\n",
    "- $L^{<t>}(\\hat{y}^{<t>}, y^{<t>}) = -y^{<t>}log\\hat{y}^{<t>} - (1-y^{<t>})log(1-\\hat{y}^{<t>})$\n",
    "- $L(\\hat{y},y) = \\displaystyle\\sum_{t=1}^{T_{y}}L^{<t>}(\\hat{y}^{<t>}, y^{<t>})$\n",
    "\n",
    "## RNN types\n",
    "\n",
    "- one to many (ex. music generation)\n",
    "- many to one (ex. sentiment classification)\n",
    "- many to many (ex. name entity recognition)\n",
    "- many to many (ex. machine translation)\n",
    "\n",
    "## Language modelling\n",
    "\n",
    "- ex. P(The apple and pair salad) = $3.2x10^{-13}$, P(The apple and peer salad) = $5.7x10^{-13}$\n",
    "- ex. \"cats average 15 hours of sleep a day. (EOS)\"\n",
    "    - $L^{<t>}(\\hat{y}^{<t>}, y^{<t>}) = -\\displaystyle\\sum_{i}y_{i}^{<t>}log\\hat{y}_{i}^{<t>}$\n",
    "    - $L = \\displaystyle\\sum_{t}L^{<t>}(\\hat{y}^{<t>}, y^{<t>})$\n",
    "    - $P(y^{<1>}, y^{<2>}, y^{<3>}) = P(y^{<1>})P(y^{<2>}|y^{<1>})P(y^{<3>}|y^{<1>},y^{<2>})$\n",
    "    \n",
    "## Vanishing gradients with RNNs\n",
    "\n",
    "- ex. \"the cats, which, ..., were full\" vs \"the cat, which, ..., was full\"\n",
    "- capturing long-term dependencies is hard\n",
    "    \n",
    "## Gated recurrent unit\n",
    "\n",
    "- RNN unit\n",
    "    - $a^{<t>} = g(W_{a}[a^{<t-1>}, x^{<t>}] + b_{a})$ (where $g$ is tanh)\n",
    "- GRU\n",
    "    - let $c$ = memory cell\n",
    "    - $c^{<t>} = a^{<t>}$\n",
    "    - $\\tilde{c}^{<t>} = tanh(W_{c}[c^{<t-1>},x^{<t>}] + b_{c})$\n",
    "    - $\\Gamma_{u} = \\sigma(W_{u}[c^{<t-1>},x^{<t>}] + b_{u})$\n",
    "    - $c^{<t>} = \\Gamma_{u}\\tilde{c}^{<t>} + (1-\\Gamma_{u}){c}^{<t-1>}$ (if vectors, multiplications are element-wise)\n",
    "- Full GRU\n",
    "    - $\\tilde{c}^{<t>} = tanh(W_{c}[\\Gamma_{r}c^{<t-1>},x^{<t>}] + b_{c})$\n",
    "    - $\\Gamma_{u} = \\sigma(W_{u}[c^{<t-1>},x^{<t>}] + b_{u})$\n",
    "    - $\\Gamma_{r} = \\sigma(W_{r}[c^{<t-1>},x^{<t>}] + b_{r})$\n",
    "    - $c^{<t>} = \\Gamma_{u}\\tilde{c}^{<t>} + (1-\\Gamma_{u}){c}^{<t-1>}$\n",
    "    - $a^{<t>} = c^{<t>}$\n",
    "    \n",
    "## Long short term memory (LSTM)\n",
    "\n",
    "- $\\tilde{c}^{<t>} = tanh(W_{c}[a^{<t-1>},x^{<t>}] + b_{c})$\n",
    "- $\\Gamma_{u} = \\sigma(W_{u}[c^{<t-1>},x^{<t>}] + b_{u})$ (update)\n",
    "- $\\Gamma_{f} = \\sigma(W_{f}[c^{<t-1>},x^{<t>}] + b_{f})$ (forget)\n",
    "- $\\Gamma_{o} = \\sigma(W_{o}[c^{<t-1>},x^{<t>}] + b_{o})$ (output)\n",
    "- $c^{<t>} = \\Gamma_{u}\\tilde{c}^{<t>} + \\Gamma_{u}{c}^{<t-1>}$\n",
    "- $a^{<t>} = \\Gamma_{o}tanhc^{<t>}$\n",
    "\n",
    "## Bidirectional RNN\n",
    "\n",
    "- getting information from the future\n",
    "    - ex. He said, \"Teddy bears are on sale!\"\n",
    "    - ex. He said, \"Teddy Roosevelt was a great President\"\n",
    "- $\\hat{y}^{<t>} = g(W_{y}[\\overrightarrow{a}^{<t>}, \\overleftarrow{a}^{<t>}] + b_{y})$"
   ]
  },
  {
   "cell_type": "markdown",
   "id": "fa7f2bc9-d399-479e-8d8f-037300081c0a",
   "metadata": {},
   "source": [
    "## Example"
   ]
  },
  {
   "cell_type": "markdown",
   "id": "fc523a26-5974-4ade-85f2-e4dc65c3440b",
   "metadata": {},
   "source": [
    "### Packages"
   ]
  },
  {
   "cell_type": "code",
   "execution_count": null,
   "id": "b67ff943-07ca-446b-adbd-55185de9d853",
   "metadata": {},
   "outputs": [],
   "source": []
  }
 ],
 "metadata": {
  "kernelspec": {
   "display_name": "Python 3 (ipykernel)",
   "language": "python",
   "name": "python3"
  },
  "language_info": {
   "codemirror_mode": {
    "name": "ipython",
    "version": 3
   },
   "file_extension": ".py",
   "mimetype": "text/x-python",
   "name": "python",
   "nbconvert_exporter": "python",
   "pygments_lexer": "ipython3",
   "version": "3.9.10"
  }
 },
 "nbformat": 4,
 "nbformat_minor": 5
}
