{
 "cells": [
  {
   "cell_type": "markdown",
   "id": "55c36b1c-a0f2-46e3-ad97-8319d1ed768e",
   "metadata": {},
   "source": [
    "# Deep neural network for image classification"
   ]
  },
  {
   "cell_type": "code",
   "execution_count": null,
   "id": "47da039d-0296-4783-8ce8-41f66eb5ba6a",
   "metadata": {},
   "outputs": [],
   "source": []
  }
 ],
 "metadata": {
  "kernelspec": {
   "display_name": "Python 3 (ipykernel)",
   "language": "python",
   "name": "python3"
  },
  "language_info": {
   "codemirror_mode": {
    "name": "ipython",
    "version": 3
   },
   "file_extension": ".py",
   "mimetype": "text/x-python",
   "name": "python",
   "nbconvert_exporter": "python",
   "pygments_lexer": "ipython3",
   "version": "3.9.10"
  }
 },
 "nbformat": 4,
 "nbformat_minor": 5
}
