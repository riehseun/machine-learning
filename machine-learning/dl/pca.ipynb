{
 "cells": [
  {
   "cell_type": "markdown",
   "id": "d5cc676d-e415-4c6e-8da7-78199583aa0e",
   "metadata": {},
   "source": [
    "# PCA\n",
    "\n",
    "1. Mean normalized your data\n",
    "2. Compute the covariance matrix\n",
    "3. Compute SVD on the covariance matrix. This returns $[USV] = svd(\\Sigma)$ where $U$ is eigenvectors and $S$ is eigenvalues\n",
    "4. You can then use first $n$ columns of $U$, to get new data by $XU[:,0 : n]$\n",
    "\n",
    "## Cosine similarity\n",
    "\n",
    "$\\cos (\\theta)=\\dfrac{\\mathbf{A} \\cdot \\mathbf{B}}{\\|\\mathbf{A}\\|\\|\\mathbf{B}\\|}=\\dfrac{\\sum_{i=1}^{n} A_{i} B_{i}}{\\sqrt{\\sum_{i=1}^{n} A_{i}^{2}} \\sqrt{\\sum_{i=1}^{n} B_{i}^{2}}}$"
   ]
  },
  {
   "cell_type": "code",
   "execution_count": null,
   "id": "bd982302-9c7e-4983-be45-df106eed95ac",
   "metadata": {},
   "outputs": [],
   "source": []
  }
 ],
 "metadata": {
  "kernelspec": {
   "display_name": "Python 3 (ipykernel)",
   "language": "python",
   "name": "python3"
  },
  "language_info": {
   "codemirror_mode": {
    "name": "ipython",
    "version": 3
   },
   "file_extension": ".py",
   "mimetype": "text/x-python",
   "name": "python",
   "nbconvert_exporter": "python",
   "pygments_lexer": "ipython3",
   "version": "3.9.10"
  }
 },
 "nbformat": 4,
 "nbformat_minor": 5
}
