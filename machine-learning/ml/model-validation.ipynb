{
 "cells": [
  {
   "cell_type": "markdown",
   "id": "b4530e22-5c85-4125-8a4f-8acacbfa4fd1",
   "metadata": {},
   "source": [
    "# Model validation\n",
    "\n",
    "- Models are trained on train set.\n",
    "- Hyperpameters are selected on validation set.\n",
    "- Final evaluation is done on test set.\n",
    "\n",
    "## Orthogonalization\n",
    "\n",
    "- Fit training set well on cost function. (bigger network, better optimization algorithm)\n",
    "- Then, fit dev set well on cost function. (regularization, bigger training set)\n",
    "- Then, fit test set well on cost function. (bigger dev set)\n",
    "- Then, perform well in real world. (change dev set or cost function)\n",
    "\n",
    "## Train/dev/test distributions\n",
    "\n",
    "- Choose a dev set and test set to reflect data you expect to get in the future and consider important to do well on.\n",
    "- Dev and test set must come from the same distribution.\n",
    "\n",
    "## Size of dev/test sets\n",
    "\n",
    "- Set your test set to be big enough to give high confidence in the overall performance of your system.\n",
    "\n",
    "## When to change dev/test sets and metrics\n",
    "\n",
    "- If doing well on your metric and dev/test set does not correcpond to doing well on your application, change your metric and/or dev/test set.\n",
    "\n",
    "## Cross validation\n",
    "\n",
    "- Treat train & validation as one set. Select different train and validation sets each time.\n",
    "\n",
    "## K-fold cross validation\n",
    "\n",
    "- Separate data into $k$ parts. Select one set as validation and $k-1$ sets as traiing. Repeat this process for all sets.\n",
    "- Must not be used in time-series data.\n",
    "- $k$ in practice should be $4-5$."
   ]
  },
  {
   "cell_type": "code",
   "execution_count": null,
   "id": "d79e5243-1d00-4a70-b236-bb15d13fcc2e",
   "metadata": {},
   "outputs": [],
   "source": []
  }
 ],
 "metadata": {
  "kernelspec": {
   "display_name": "Python 3 (ipykernel)",
   "language": "python",
   "name": "python3"
  },
  "language_info": {
   "codemirror_mode": {
    "name": "ipython",
    "version": 3
   },
   "file_extension": ".py",
   "mimetype": "text/x-python",
   "name": "python",
   "nbconvert_exporter": "python",
   "pygments_lexer": "ipython3",
   "version": "3.9.10"
  }
 },
 "nbformat": 4,
 "nbformat_minor": 5
}
