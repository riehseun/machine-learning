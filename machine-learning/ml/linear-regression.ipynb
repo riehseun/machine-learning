{
 "cells": [
  {
   "cell_type": "markdown",
   "id": "de9b6732-df88-49d6-b881-d64bab495c01",
   "metadata": {},
   "source": [
    "# Linear regression\n",
    "\n",
    "- Dependent (target) variable $y$\n",
    "- Independent (predictor) variable $x$\n",
    "- Assumes error are independently and identically normally distributed.\n",
    "\n",
    "Common regression models\n",
    "- Linear regression: fits line to data.\n",
    "- Polynomial regression: fits curve to data.\n",
    "- Ridge regression: when predictors are highly correlated. (Uses L2 regularization)\n",
    "- Lasso regression: coefficient can reach zero, allowing feature selection. (Uses L1 regularization)\n",
    "\n",
    "Simple linear regression\n",
    "- $y = b_{0} + b_{1} * x_{1}$\n",
    "\n",
    "Multiple linear regression\n",
    "- $y = b_{0} + b_{1} * x_{1} + \\dots + b_{n} * x_{N}$"
   ]
  },
  {
   "cell_type": "markdown",
   "id": "e2b589c1-3cb0-4755-b469-6bfcd4ba1693",
   "metadata": {},
   "source": [
    "## Normal distribution\n",
    "\n",
    "- Central limit theorem: draw large enough samples. Their mean will be normally distributed. (Regardless of sample's initial distribution) In other words, distribution of mean of samples is normal."
   ]
  },
  {
   "cell_type": "markdown",
   "id": "833748e4-1639-4710-80bb-06ac1ba553a0",
   "metadata": {},
   "source": [
    "## Solve linear regression\n",
    "\n",
    "1. Matrix algebra\n",
    "- Calculate $(X^{T}X)^{-1}X^{T}$ \n",
    "    - May not be able to compute inverse. Then, use Singualr Value Decomposition (SVD) to compute the whole expression.\n",
    "    \n",
    "2. Gradient descent\n",
    "- Take negative of gradient of a function at a point.\n",
    "- Update that point repeatedly until reaching an optimal point.\n",
    "- Run through all samples to do a single update for a parameter\n",
    "\n",
    "3. Stochastic gradient descent / min-batch gradient descent\n",
    "- Run through one or subset of samples."
   ]
  },
  {
   "cell_type": "markdown",
   "id": "ebb3f0e3-8e38-49ae-bbff-778afa417ece",
   "metadata": {},
   "source": [
    "## Normal equation\n",
    "\n",
    "- Set partial derivatives of sum of squared errors to zero.\n",
    "- Allows estimating parameters in multiple regression."
   ]
  },
  {
   "cell_type": "markdown",
   "id": "dc3c5cdc-bab4-44fa-be95-b5ce3f867f95",
   "metadata": {},
   "source": [
    "## Evaluate regression model\n",
    "\n",
    "- Mean squared error\n",
    "- Root mean squared error\n",
    "- Mean absolute error\n",
    "- $R^{2}$"
   ]
  },
  {
   "cell_type": "markdown",
   "id": "41c8b078-e385-44b2-84f6-84363471e0b1",
   "metadata": {},
   "source": []
  },
  {
   "cell_type": "code",
   "execution_count": null,
   "id": "d1cdf5aa-3dfb-467e-b41e-ded998e418aa",
   "metadata": {},
   "outputs": [],
   "source": []
  }
 ],
 "metadata": {
  "kernelspec": {
   "display_name": "Python 3 (ipykernel)",
   "language": "python",
   "name": "python3"
  },
  "language_info": {
   "codemirror_mode": {
    "name": "ipython",
    "version": 3
   },
   "file_extension": ".py",
   "mimetype": "text/x-python",
   "name": "python",
   "nbconvert_exporter": "python",
   "pygments_lexer": "ipython3",
   "version": "3.9.10"
  }
 },
 "nbformat": 4,
 "nbformat_minor": 5
}
