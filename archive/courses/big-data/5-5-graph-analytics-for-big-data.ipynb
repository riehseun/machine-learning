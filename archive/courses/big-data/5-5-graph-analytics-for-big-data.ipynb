{
 "cells": [
  {
   "cell_type": "markdown",
   "metadata": {},
   "source": [
    "# Graph analytics for big data\n",
    "\n",
    "- volume: size of graph\n",
    "- velocity: streams of data coming in\n",
    "- variety: graph getting complex and non-uniform\n",
    "- valence: increasing connectivity\n",
    "\n",
    "Diameter of a graph\n",
    "- maximum shortest path between any two nodes in the graph\n",
    "\n",
    "Strongly connected graph\n",
    "- there is always path between one node to another in the graph \n",
    "\n",
    "Community\n",
    "- a dense subgraph within a graph whose nodes are more connected within the cluster than nodes outside the cluster"
   ]
  }
 ],
 "metadata": {
  "kernelspec": {
   "display_name": "Python 3",
   "language": "python",
   "name": "python3"
  },
  "language_info": {
   "codemirror_mode": {
    "name": "ipython",
    "version": 3
   },
   "file_extension": ".py",
   "mimetype": "text/x-python",
   "name": "python",
   "nbconvert_exporter": "python",
   "pygments_lexer": "ipython3",
   "version": "3.7.4"
  }
 },
 "nbformat": 4,
 "nbformat_minor": 2
}
